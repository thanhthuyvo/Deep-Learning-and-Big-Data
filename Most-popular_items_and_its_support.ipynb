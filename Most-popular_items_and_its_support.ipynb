{
 "cells": [
  {
   "cell_type": "code",
   "execution_count": null,
   "metadata": {
    "id": "5sqg_968Nvtz"
   },
   "outputs": [],
   "source": [
    "import pyspark\n",
    "from pyspark import SparkContext\n",
    "from pyspark.conf import SparkConf\n",
    "from pyspark.sql import SparkSession"
   ]
  },
  {
   "cell_type": "code",
   "execution_count": null,
   "metadata": {
    "id": "tenMZr2n0MPg"
   },
   "outputs": [],
   "source": [
    "sc = SparkContext()"
   ]
  },
  {
   "cell_type": "code",
   "execution_count": null,
   "metadata": {
    "id": "5YnCK2rY0NEx"
   },
   "outputs": [],
   "source": [
    "spark = SparkSession.builder.appName('bakery_basket').getOrCreate()"
   ]
  },
  {
   "cell_type": "code",
   "execution_count": null,
   "metadata": {
    "id": "W4N7iizw0XlG"
   },
   "outputs": [],
   "source": [
    "from pyspark.ml.fpm import FPGrowth\n",
    "from pyspark.sql.functions import split, explode\n",
    "import pyspark.sql.functions as f"
   ]
  },
  {
   "cell_type": "code",
   "execution_count": null,
   "metadata": {
    "id": "LYoDJMuS0ZY1"
   },
   "outputs": [],
   "source": [
    "# Pre-processing data\n",
    "from pyspark.sql.functions import collect_list, col, count, collect_set\n",
    "# Convert list array to string\n",
    "from pyspark.sql.types import StringType"
   ]
  },
  {
   "cell_type": "code",
   "execution_count": null,
   "metadata": {
    "id": "dTDrUFlo0fhG"
   },
   "outputs": [],
   "source": [
    "# Loads data.\n",
    "data = spark.read.csv('75000/75000i.csv', header=False,\n",
    "                      inferSchema=True)"
   ]
  },
  {
   "cell_type": "code",
   "execution_count": null,
   "metadata": {
    "id": "pwQkKWR-2fYb"
   },
   "outputs": [],
   "source": [
    "df3 = spark.read.options(header='False', inferSchema='True', delimiter=';') \\\n",
    "  .csv('75000/75000-out1.csv')"
   ]
  },
  {
   "cell_type": "code",
   "execution_count": null,
   "metadata": {
    "colab": {
     "base_uri": "https://localhost:8080/"
    },
    "id": "L1SX03Xb1UFR",
    "outputId": "db18d236-7826-44d5-de08-551e816dcc3a"
   },
   "outputs": [
    {
     "name": "stdout",
     "output_type": "stream",
     "text": [
      "+--------------------+\n",
      "|                 _c0|\n",
      "+--------------------+\n",
      "|           1, 11, 21|\n",
      "|    2, 7, 11, 37, 45|\n",
      "|        3, 3, 33, 42|\n",
      "|    4, 5, 12, 17, 47|\n",
      "|        5, 6, 18, 42|\n",
      "|         6, 2, 4, 34|\n",
      "|   7, 15, 16, 23, 40|\n",
      "|     8, 2, 3, 29, 34|\n",
      "|9, 18, 23, 26, 35...|\n",
      "|          10, 44, 45|\n",
      "+--------------------+\n",
      "only showing top 10 rows\n",
      "\n"
     ]
    }
   ],
   "source": [
    "df3.show(10)"
   ]
  },
  {
   "cell_type": "code",
   "execution_count": null,
   "metadata": {
    "id": "2w3z5f5M3fJD"
   },
   "outputs": [],
   "source": [
    "df = split(df3['_c0'], ',')\n",
    "df3 = df3.withColumn('order_id', df.getItem(0))\n",
    "baskets =df3.select('order_id',\n",
    "                      split(f.regexp_replace('_c0', '^[A-Za-z0-9]+(?=,),', ''),',').alias('items'))\n",
    "baskets.createOrReplaceTempView(\"baskets\")"
   ]
  },
  {
   "cell_type": "code",
   "execution_count": null,
   "metadata": {
    "colab": {
     "base_uri": "https://localhost:8080/"
    },
    "id": "2L4JW0Bc4Ck8",
    "outputId": "b8aab9a6-a185-4314-8000-2670b7d99c5b"
   },
   "outputs": [
    {
     "name": "stdout",
     "output_type": "stream",
     "text": [
      "+--------+--------------------+\n",
      "|order_id|               items|\n",
      "+--------+--------------------+\n",
      "|       1|          [ 11,  21]|\n",
      "|       2| [ 7,  11,  37,  45]|\n",
      "|       3|      [ 3,  33,  42]|\n",
      "|       4| [ 5,  12,  17,  47]|\n",
      "|       5|      [ 6,  18,  42]|\n",
      "|       6|       [ 2,  4,  34]|\n",
      "|       7|[ 15,  16,  23,  40]|\n",
      "|       8|  [ 2,  3,  29,  34]|\n",
      "|       9|[ 18,  23,  26,  ...|\n",
      "|      10|          [ 44,  45]|\n",
      "+--------+--------------------+\n",
      "only showing top 10 rows\n",
      "\n"
     ]
    }
   ],
   "source": [
    "baskets.show(10)"
   ]
  },
  {
   "cell_type": "code",
   "execution_count": null,
   "metadata": {
    "colab": {
     "base_uri": "https://localhost:8080/"
    },
    "id": "24MW9s7PJ8OU",
    "outputId": "223469d8-8dc1-4c05-a42a-65a961ac29e7"
   },
   "outputs": [
    {
     "name": "stdout",
     "output_type": "stream",
     "text": [
      "+--------+----------+\n",
      "|order_id|product_id|\n",
      "+--------+----------+\n",
      "|       1|        11|\n",
      "|       1|        21|\n",
      "|       2|         7|\n",
      "|       2|        11|\n",
      "|       2|        37|\n",
      "|       2|        45|\n",
      "|       3|         3|\n",
      "|       3|        33|\n",
      "|       3|        42|\n",
      "|       4|         5|\n",
      "+--------+----------+\n",
      "only showing top 10 rows\n",
      "\n"
     ]
    }
   ],
   "source": [
    "product_id = baskets.withColumn('product_id', explode(baskets['items']))\n",
    "product_id[['order_id', 'product_id']].show(10)"
   ]
  },
  {
   "cell_type": "code",
   "execution_count": null,
   "metadata": {
    "id": "SzTbERxDLpMy"
   },
   "outputs": [],
   "source": [
    "product_id.createOrReplaceTempView(\"order_products\")"
   ]
  },
  {
   "cell_type": "code",
   "execution_count": null,
   "metadata": {
    "id": "dUGO8U-ypC4V"
   },
   "outputs": [],
   "source": [
    "fpGrowth = FPGrowth(itemsCol = \"items\", minSupport = 0.003, minConfidence = 0.003)\n",
    "model = fpGrowth.fit(baskets)"
   ]
  },
  {
   "cell_type": "code",
   "execution_count": null,
   "metadata": {
    "colab": {
     "base_uri": "https://localhost:8080/"
    },
    "id": "xYU-Lxro2kN9",
    "outputId": "b15cd1cc-c20c-4339-b8be-50e62583a913"
   },
   "outputs": [
    {
     "name": "stdout",
     "output_type": "stream",
     "text": [
      "+----------+----+\n",
      "|     items|freq|\n",
      "+----------+----+\n",
      "|     [ 19]|5685|\n",
      "|[ 19,  27]| 359|\n",
      "|[ 19,  33]| 334|\n",
      "| [ 19,  1]|2764|\n",
      "|[ 19,  28]| 408|\n",
      "|[ 19,  37]| 274|\n",
      "|[ 19,  35]| 312|\n",
      "|[ 19,  16]| 286|\n",
      "| [ 19,  4]| 388|\n",
      "|[ 19,  46]| 324|\n",
      "|[ 19,  15]| 298|\n",
      "| [ 19,  5]| 323|\n",
      "|[ 19,  22]| 368|\n",
      "|[ 19,  32]| 297|\n",
      "|[ 19,  45]| 344|\n",
      "|[ 19,  47]| 331|\n",
      "| [ 19,  3]| 294|\n",
      "|[ 19,  14]| 350|\n",
      "|[ 19,  11]| 296|\n",
      "| [ 19,  0]| 305|\n",
      "+----------+----+\n",
      "only showing top 20 rows\n",
      "\n"
     ]
    }
   ],
   "source": [
    "model.freqItemsets.show()"
   ]
  },
  {
   "cell_type": "markdown",
   "metadata": {},
   "source": [
    "Danh sách các sản phẩm được mua nhiều nhất"
   ]
  },
  {
   "cell_type": "code",
   "execution_count": null,
   "metadata": {
    "id": "72tpKwEh0ubs"
   },
   "outputs": [],
   "source": [
    "mostPopularItemInABaskets = model.transform(baskets)"
   ]
  },
  {
   "cell_type": "code",
   "execution_count": null,
   "metadata": {
    "colab": {
     "base_uri": "https://localhost:8080/"
    },
    "id": "vH26lbPKkF32",
    "outputId": "a259241f-49ad-4284-800b-87fd8c827cbb"
   },
   "outputs": [
    {
     "name": "stdout",
     "output_type": "stream",
     "text": [
      "-RECORD 0----------------------------------------------------------------------------------------------------------------------------------------------------------------------------------------------------------------------------------------\n",
      " order_id   | 1                                                                                                                                                                                                                                  \n",
      " items      | [ 11,  21]                                                                                                                                                                                                                         \n",
      " prediction | [ 19,  33,  27,  1,  28,  35,  16,  46,  4,  15,  22,  5,  32,  45,  47,  14,  0,  18,  49,  9,  44,  42,  7,  17,  29,  2,  40,  37,  3]                                                                                          \n",
      "-RECORD 1----------------------------------------------------------------------------------------------------------------------------------------------------------------------------------------------------------------------------------------\n",
      " order_id   | 2                                                                                                                                                                                                                                  \n",
      " items      | [ 7,  11,  37,  45]                                                                                                                                                                                                                \n",
      " prediction | [ 19,  17,  15,  29,  2,  40,  27,  33,  1,  28,  35,  16,  4,  46,  22,  5,  32,  47,  14,  3,  0,  18,  9,  42,  49,  44,  41,  21,  31,  38,  24,  13,  6,  25,  34,  8,  23,  48,  12,  26,  43,  10,  20,  30,  36]           \n",
      "-RECORD 2----------------------------------------------------------------------------------------------------------------------------------------------------------------------------------------------------------------------------------------\n",
      " order_id   | 3                                                                                                                                                                                                                                  \n",
      " items      | [ 3,  33,  42]                                                                                                                                                                                                                     \n",
      " prediction | [ 19,  41,  31,  38,  17,  24,  13,  37,  6,  34,  15,  29,  2,  48,  12,  47,  43,  40,  27,  1,  28,  35,  16,  4,  46,  22,  5,  45,  32,  14,  18,  0,  9,  7,  11,  49,  30,  44,  36,  21,  39,  25,  8,  23,  26,  10,  20] \n",
      "only showing top 3 rows\n",
      "\n"
     ]
    }
   ],
   "source": [
    "mostPopularItemInABaskets.show(3, truncate=False, vertical=True)"
   ]
  },
  {
   "cell_type": "code",
   "execution_count": null,
   "metadata": {
    "id": "Vr_B58ZwqtV_"
   },
   "outputs": [],
   "source": [
    "from re import escape\n",
    "product = spark.read.csv('75000/goods.csv', header=True, \n",
    "                      inferSchema=True)"
   ]
  },
  {
   "cell_type": "code",
   "execution_count": null,
   "metadata": {
    "colab": {
     "base_uri": "https://localhost:8080/"
    },
    "id": "GuvNLTwrw3_r",
    "outputId": "5abcb53b-36c5-4d24-e13f-d962cff3ab7e"
   },
   "outputs": [
    {
     "name": "stdout",
     "output_type": "stream",
     "text": [
      "+---+------------+------+-----+------+\n",
      "| Id|      Flavor|  Food|Price|  Type|\n",
      "+---+------------+------+-----+------+\n",
      "|  0| 'Chocolate'|'Cake'| 8.95|'Food'|\n",
      "|  1|     'Lemon'|'Cake'| 8.95|'Food'|\n",
      "|  2|    'Casino'|'Cake'|15.95|'Food'|\n",
      "|  3|     'Opera'|'Cake'|15.95|'Food'|\n",
      "|  4|'Strawberry'|'Cake'|11.95|'Food'|\n",
      "+---+------------+------+-----+------+\n",
      "only showing top 5 rows\n",
      "\n"
     ]
    }
   ],
   "source": [
    "product.show(5, truncate=True)"
   ]
  },
  {
   "cell_type": "code",
   "execution_count": null,
   "metadata": {
    "colab": {
     "base_uri": "https://localhost:8080/"
    },
    "id": "8Jokk3JZbb_5",
    "outputId": "a9614fb8-6ad5-4979-e2b3-bf1a84ca286f"
   },
   "outputs": [
    {
     "name": "stdout",
     "output_type": "stream",
     "text": [
      "+---+----------+------+-----+------+\n",
      "| Id|    Flavor|  Food|Price|  Type|\n",
      "+---+----------+------+-----+------+\n",
      "|  0| Chocolate|  Cake| 8.95|'Food'|\n",
      "|  1|     Lemon|  Cake| 8.95|'Food'|\n",
      "|  2|    Casino|  Cake|15.95|'Food'|\n",
      "|  3|     Opera|  Cake|15.95|'Food'|\n",
      "|  4|Strawberry|  Cake|11.95|'Food'|\n",
      "|  5|   Truffle|  Cake|15.95|'Food'|\n",
      "|  6| Chocolate|Eclair| 3.25|'Food'|\n",
      "|  7|    Coffee|Eclair|  3.5|'Food'|\n",
      "|  8|   Vanilla|Eclair| 3.25|'Food'|\n",
      "|  9|  Napoleon|  Cake|13.49|'Food'|\n",
      "+---+----------+------+-----+------+\n",
      "only showing top 10 rows\n",
      "\n"
     ]
    }
   ],
   "source": [
    "product = product.withColumn('Flavor', f.regexp_replace('Flavor', \"\\'\", \"\")).withColumn('Food', f.regexp_replace('Food', \"\\'\", \"\"))\n",
    "product.show(10)"
   ]
  },
  {
   "cell_type": "code",
   "execution_count": null,
   "metadata": {
    "id": "PUMXLr-3w6Wr"
   },
   "outputs": [],
   "source": [
    "product.createOrReplaceTempView(\"products\")"
   ]
  },
  {
   "cell_type": "code",
   "execution_count": null,
   "metadata": {
    "id": "WbVSktTuw8Yw"
   },
   "outputs": [],
   "source": [
    "query = \"select concat(trim(p.Flavor),' ', trim(p.Food)) as Flavor_Food_Name, o.order_id from products p inner join order_products o where o.product_id = p.Id\"\n",
    "\n",
    "rawData = spark.sql(query)"
   ]
  },
  {
   "cell_type": "code",
   "execution_count": null,
   "metadata": {
    "colab": {
     "base_uri": "https://localhost:8080/"
    },
    "id": "lxKZ5f7XMFYq",
    "outputId": "ef96fb90-1132-45a3-c8af-a529fc3c1354"
   },
   "outputs": [
    {
     "name": "stdout",
     "output_type": "stream",
     "text": [
      "+-------------------+--------+\n",
      "|   Flavor_Food_Name|order_id|\n",
      "+-------------------+--------+\n",
      "|          Apple Pie|       1|\n",
      "|     Ganache Cookie|       1|\n",
      "|      Coffee Eclair|       2|\n",
      "|          Apple Pie|       2|\n",
      "|       Almond Twist|       2|\n",
      "|         Hot Coffee|       2|\n",
      "|         Opera Cake|       3|\n",
      "|   Cheese Croissant|       3|\n",
      "|       Orange Juice|       3|\n",
      "|       Truffle Cake|       4|\n",
      "|         Apple Tart|       4|\n",
      "|     Chocolate Tart|       4|\n",
      "|Vanilla Frappuccino|       4|\n",
      "|   Chocolate Eclair|       5|\n",
      "|        Cherry Tart|       5|\n",
      "|       Orange Juice|       5|\n",
      "|        Casino Cake|       6|\n",
      "|    Strawberry Cake|       6|\n",
      "|Chocolate Croissant|       6|\n",
      "|    Blackberry Tart|       7|\n",
      "+-------------------+--------+\n",
      "only showing top 20 rows\n",
      "\n"
     ]
    }
   ],
   "source": [
    "rawData.show()"
   ]
  },
  {
   "cell_type": "code",
   "execution_count": null,
   "metadata": {
    "colab": {
     "base_uri": "https://localhost:8080/"
    },
    "id": "LAFbNQO8Mo77",
    "outputId": "23925795-52dc-4b44-ebec-478e50ef4a7d"
   },
   "outputs": [
    {
     "name": "stdout",
     "output_type": "stream",
     "text": [
      "+--------+--------------------+\n",
      "|order_id|               items|\n",
      "+--------+--------------------+\n",
      "|       1|[Ganache Cookie, ...|\n",
      "|      10|[Bottled Water, H...|\n",
      "|     100|[Orange Juice, Ch...|\n",
      "|    1000|[Apricot Croissan...|\n",
      "|   10000|[Casino Cake, Cho...|\n",
      "|   10001|[Bottled Water, B...|\n",
      "|   10002|[Bottled Water, V...|\n",
      "|   10003|[Truffle Cake, Go...|\n",
      "|   10004|[Raspberry Cookie...|\n",
      "|   10005|[Bottled Water, T...|\n",
      "+--------+--------------------+\n",
      "only showing top 10 rows\n",
      "\n"
     ]
    }
   ],
   "source": [
    "baskets_1 = rawData.groupBy('order_id').agg(collect_set('Flavor_Food_Name').alias('items'))\n",
    "baskets_1.sort('order_id').show(10, truncate=True)"
   ]
  },
  {
   "cell_type": "code",
   "execution_count": null,
   "metadata": {
    "id": "ABF-gpuROeVT"
   },
   "outputs": [],
   "source": [
    "baskets_1.createOrReplaceTempView('baskets1')"
   ]
  },
  {
   "cell_type": "code",
   "execution_count": null,
   "metadata": {
    "colab": {
     "base_uri": "https://localhost:8080/"
    },
    "id": "E2fbDPgHPgcu",
    "outputId": "76082186-c610-4049-f3aa-de3c986b0db0"
   },
   "outputs": [
    {
     "data": {
      "text/plain": [
       "[Row(order_id='100', items=['Orange Juice', 'Cheese Croissant']),\n",
       " Row(order_id='1000', items=['Apricot Croissant', 'Raspberry Lemonade', 'Lemon Tart']),\n",
       " Row(order_id='10000', items=['Casino Cake', 'Chocolate Coffee', 'Chocolate Cake'])]"
      ]
     },
     "execution_count": 61,
     "metadata": {},
     "output_type": "execute_result"
    }
   ],
   "source": [
    "baskets_1.head(3)"
   ]
  },
  {
   "cell_type": "code",
   "execution_count": null,
   "metadata": {
    "id": "DCGIC5bkPkOI"
   },
   "outputs": [],
   "source": [
    "fpGrowth_1 = FPGrowth(itemsCol = \"items\", minSupport = 0.003, minConfidence = 0.003)\n",
    "model_1= fpGrowth_1.fit(baskets_1)"
   ]
  },
  {
   "cell_type": "code",
   "execution_count": null,
   "metadata": {
    "colab": {
     "base_uri": "https://localhost:8080/"
    },
    "id": "nid1EDuCPqTd",
    "outputId": "86a5b6bd-c009-439f-ce31-04ff0f078f02"
   },
   "outputs": [
    {
     "name": "stdout",
     "output_type": "stream",
     "text": [
      "+--------------------------------------------------+----+\n",
      "|items                                             |freq|\n",
      "+--------------------------------------------------+----+\n",
      "|[Raspberry Lemonade]                              |5081|\n",
      "|[Raspberry Lemonade, Lemon Tart]                  |253 |\n",
      "|[Raspberry Lemonade, Cheese Croissant]            |310 |\n",
      "|[Raspberry Lemonade, Marzipan Cookie]             |292 |\n",
      "|[Raspberry Lemonade, Lemon Cake]                  |264 |\n",
      "|[Raspberry Lemonade, Lemon Cookie]                |2087|\n",
      "|[Raspberry Lemonade, Lemon Cookie, Lemon Lemonade]|1922|\n",
      "|[Raspberry Lemonade, Tuile Cookie]                |303 |\n",
      "|[Raspberry Lemonade, Almond Twist]                |235 |\n",
      "|[Raspberry Lemonade, Apricot Danish]              |274 |\n",
      "|[Raspberry Lemonade, Blueberry Tart]              |249 |\n",
      "|[Raspberry Lemonade, Chocolate Coffee]            |257 |\n",
      "|[Raspberry Lemonade, Strawberry Cake]             |304 |\n",
      "|[Raspberry Lemonade, Blackberry Tart]             |237 |\n",
      "|[Raspberry Lemonade, Gongolais Cookie]            |296 |\n",
      "|[Raspberry Lemonade, Truffle Cake]                |287 |\n",
      "|[Raspberry Lemonade, Casino Cake]                 |225 |\n",
      "|[Raspberry Lemonade, Apricot Croissant]           |234 |\n",
      "|[Raspberry Lemonade, Hot Coffee]                  |235 |\n",
      "|[Raspberry Lemonade, Vanilla Frappuccino]         |237 |\n",
      "+--------------------------------------------------+----+\n",
      "only showing top 20 rows\n",
      "\n"
     ]
    }
   ],
   "source": [
    "model_1.freqItemsets.show(truncate=False)"
   ]
  },
  {
   "cell_type": "code",
   "execution_count": null,
   "metadata": {
    "id": "u2FU0VvkPsWQ"
   },
   "outputs": [],
   "source": [
    "mostPopularItemInABaskets_1 = model_1.transform(baskets_1)"
   ]
  },
  {
   "cell_type": "code",
   "execution_count": null,
   "metadata": {
    "colab": {
     "base_uri": "https://localhost:8080/"
    },
    "id": "CWeFTy48P1wc",
    "outputId": "d0ff5c9e-edd9-4e91-9b1b-0854906fc0e3"
   },
   "outputs": [
    {
     "name": "stdout",
     "output_type": "stream",
     "text": [
      "-RECORD 0------------------------------------------------------------------------------------------------------------------------------------------------------------------------------------------------------------------------------------------------------------------------------------------------------------------------------------------------------------------------------------------------------------------------------------------------------------------------------------------------------------------------------------------------------------------------------------------------------------------------------------------------------------------------------------------------------------------------------------------------------------------------------\n",
      " order_id   | 100                                                                                                                                                                                                                                                                                                                                                                                                                                                                                                                                                                                                                                                                                                                                                                      \n",
      " items      | [Orange Juice, Cheese Croissant]                                                                                                                                                                                                                                                                                                                                                                                                                                                                                                                                                                                                                                                                                                                                         \n",
      " prediction | [Raspberry Lemonade, Almond Bear Claw, Chocolate Tart, Blueberry Danish, Almond Twist, Chocolate Eclair, Chocolate Croissant, Blackberry Tart, Raspberry Cookie, Apple Tart, Green Tea, Opera Cake, Almond Tart, Single Espresso, Almond Croissant, Bottled Water, Lemon Tart, Ganache Cookie, Marzipan Cookie, Lemon Cake, Tuile Cookie, Apricot Danish, Blueberry Tart, Strawberry Cake, Chocolate Coffee, Truffle Cake, Gongolais Cookie, Hot Coffee, Apricot Croissant, Berry Tart, Cherry Tart, Chocolate Cake, Napoleon Cake, Coffee Eclair, Apple Croissant, Lemon Cookie, Apricot Tart, Chocolate Meringue, Walnut Cookie, Vanilla Eclair, Casino Cake, Cherry Soda, Vanilla Frappuccino, Vanilla Meringue, Lemon Lemonade, Apple Pie, Pecan Tart, Apple Danish] \n",
      "-RECORD 1------------------------------------------------------------------------------------------------------------------------------------------------------------------------------------------------------------------------------------------------------------------------------------------------------------------------------------------------------------------------------------------------------------------------------------------------------------------------------------------------------------------------------------------------------------------------------------------------------------------------------------------------------------------------------------------------------------------------------------------------------------------------------\n",
      " order_id   | 1000                                                                                                                                                                                                                                                                                                                                                                                                                                                                                                                                                                                                                                                                                                                                                                     \n",
      " items      | [Apricot Croissant, Raspberry Lemonade, Lemon Tart]                                                                                                                                                                                                                                                                                                                                                                                                                                                                                                                                                                                                                                                                                                                      \n",
      " prediction | [Almond Bear Claw, Chocolate Tart, Almond Twist, Blueberry Tart, Chocolate Eclair, Blackberry Tart, Truffle Cake, Raspberry Cookie, Marzipan Cookie, Tuile Cookie, Apricot Danish, Strawberry Cake, Gongolais Cookie, Hot Coffee, Berry Tart, Cherry Tart, Orange Juice, Coffee Eclair, Apple Tart, Green Tea, Opera Cake, Chocolate Cake, Single Espresso, Almond Croissant, Bottled Water, Ganache Cookie, Cheese Croissant, Apple Croissant, Lemon Cake, Lemon Cookie, Chocolate Coffee, Walnut Cookie, Vanilla Eclair, Casino Cake, Cherry Soda, Vanilla Frappuccino, Vanilla Meringue, Apple Pie, Pecan Tart, Napoleon Cake, Apple Danish, Blueberry Danish, Chocolate Croissant, Almond Tart, Apricot Tart, Chocolate Meringue, Lemon Lemonade]                    \n",
      "-RECORD 2------------------------------------------------------------------------------------------------------------------------------------------------------------------------------------------------------------------------------------------------------------------------------------------------------------------------------------------------------------------------------------------------------------------------------------------------------------------------------------------------------------------------------------------------------------------------------------------------------------------------------------------------------------------------------------------------------------------------------------------------------------------------------\n",
      " order_id   | 10000                                                                                                                                                                                                                                                                                                                                                                                                                                                                                                                                                                                                                                                                                                                                                                    \n",
      " items      | [Casino Cake, Chocolate Coffee, Chocolate Cake]                                                                                                                                                                                                                                                                                                                                                                                                                                                                                                                                                                                                                                                                                                                          \n",
      " prediction | [Raspberry Lemonade, Almond Bear Claw, Chocolate Tart, Blueberry Danish, Almond Twist, Blueberry Tart, Chocolate Eclair, Chocolate Croissant, Blackberry Tart, Truffle Cake, Raspberry Cookie, Apple Tart, Green Tea, Opera Cake, Almond Tart, Single Espresso, Bottled Water, Lemon Tart, Ganache Cookie, Cheese Croissant, Apple Croissant, Lemon Cookie, Apricot Tart, Chocolate Meringue, Marzipan Cookie, Lemon Cake, Tuile Cookie, Apricot Danish, Strawberry Cake, Gongolais Cookie, Apricot Croissant, Hot Coffee, Berry Tart, Cherry Tart, Orange Juice, Coffee Eclair, Walnut Cookie, Vanilla Frappuccino, Vanilla Meringue, Lemon Lemonade, Apple Pie, Pecan Tart, Napoleon Cake, Apple Danish, Almond Croissant, Vanilla Eclair, Cherry Soda]                \n",
      "only showing top 3 rows\n",
      "\n"
     ]
    }
   ],
   "source": [
    "mostPopularItemInABaskets_1.show(3, truncate=False, vertical=True)"
   ]
  },
  {
   "cell_type": "code",
   "execution_count": null,
   "metadata": {
    "id": "JVP_Fl6sQGhV"
   },
   "outputs": [],
   "source": [
    "from pyspark.sql.types import StringType"
   ]
  },
  {
   "cell_type": "code",
   "execution_count": null,
   "metadata": {
    "colab": {
     "base_uri": "https://localhost:8080/"
    },
    "id": "Hi5ozr-8QTe0",
    "outputId": "59bb4b35-cc40-4e5b-dea8-88113d2f4cbd"
   },
   "outputs": [
    {
     "name": "stdout",
     "output_type": "stream",
     "text": [
      "root\n",
      " |-- order_id: string (nullable = true)\n",
      " |-- items: array (nullable = false)\n",
      " |    |-- element: string (containsNull = false)\n",
      " |-- prediction: array (nullable = true)\n",
      " |    |-- element: string (containsNull = false)\n",
      "\n"
     ]
    }
   ],
   "source": [
    "mostPopularItemInABaskets_1.printSchema()"
   ]
  },
  {
   "cell_type": "code",
   "execution_count": null,
   "metadata": {
    "id": "MvFJbECAQVJi"
   },
   "outputs": [],
   "source": [
    "mostPopularItemInABaskets_1.createOrReplaceTempView(\"new_view\")"
   ]
  },
  {
   "cell_type": "code",
   "execution_count": null,
   "metadata": {
    "colab": {
     "base_uri": "https://localhost:8080/"
    },
    "id": "BIppmBiAQWnC",
    "outputId": "50dadf83-f1fd-4ce7-91e2-e4c97026a8c6"
   },
   "outputs": [
    {
     "name": "stdout",
     "output_type": "stream",
     "text": [
      "root\n",
      " |-- order_id: string (nullable = true)\n",
      " |-- items: string (nullable = false)\n",
      " |-- prediction: string (nullable = true)\n",
      "\n"
     ]
    }
   ],
   "source": [
    "DF_cast = mostPopularItemInABaskets_1.select('order_id', \n",
    "                                            mostPopularItemInABaskets_1.items.cast(StringType()),\n",
    "                                            mostPopularItemInABaskets_1.prediction.cast(StringType())) \n",
    "\n",
    "DF_cast.printSchema()"
   ]
  },
  {
   "cell_type": "code",
   "execution_count": null,
   "metadata": {
    "colab": {
     "base_uri": "https://localhost:8080/"
    },
    "id": "RUPXzNOcQYNr",
    "outputId": "0aa9afbc-93f0-4199-ba63-c2bcd900e85b"
   },
   "outputs": [
    {
     "name": "stdout",
     "output_type": "stream",
     "text": [
      "-RECORD 0------------------------------------------------------------------------------------------------------------------------------------------------------------------------------------------------------------------------------------------------------------------------------------------------------------------------------------------------------------------------------------------------------------------------------------------------------------------------------------------------------------------------------------------------------------------------------------------------------------------------------------------------------------------------------------------------------------------------------------------------------------------------------\n",
      " order_id   | 100                                                                                                                                                                                                                                                                                                                                                                                                                                                                                                                                                                                                                                                                                                                                                                      \n",
      " items      | [Orange Juice, Cheese Croissant]                                                                                                                                                                                                                                                                                                                                                                                                                                                                                                                                                                                                                                                                                                                                         \n",
      " prediction | [Raspberry Lemonade, Almond Bear Claw, Chocolate Tart, Blueberry Danish, Almond Twist, Chocolate Eclair, Chocolate Croissant, Blackberry Tart, Raspberry Cookie, Apple Tart, Green Tea, Opera Cake, Almond Tart, Single Espresso, Almond Croissant, Bottled Water, Lemon Tart, Ganache Cookie, Marzipan Cookie, Lemon Cake, Tuile Cookie, Apricot Danish, Blueberry Tart, Strawberry Cake, Chocolate Coffee, Truffle Cake, Gongolais Cookie, Hot Coffee, Apricot Croissant, Berry Tart, Cherry Tart, Chocolate Cake, Napoleon Cake, Coffee Eclair, Apple Croissant, Lemon Cookie, Apricot Tart, Chocolate Meringue, Walnut Cookie, Vanilla Eclair, Casino Cake, Cherry Soda, Vanilla Frappuccino, Vanilla Meringue, Lemon Lemonade, Apple Pie, Pecan Tart, Apple Danish] \n",
      "-RECORD 1------------------------------------------------------------------------------------------------------------------------------------------------------------------------------------------------------------------------------------------------------------------------------------------------------------------------------------------------------------------------------------------------------------------------------------------------------------------------------------------------------------------------------------------------------------------------------------------------------------------------------------------------------------------------------------------------------------------------------------------------------------------------------\n",
      " order_id   | 1000                                                                                                                                                                                                                                                                                                                                                                                                                                                                                                                                                                                                                                                                                                                                                                     \n",
      " items      | [Apricot Croissant, Raspberry Lemonade, Lemon Tart]                                                                                                                                                                                                                                                                                                                                                                                                                                                                                                                                                                                                                                                                                                                      \n",
      " prediction | [Almond Bear Claw, Chocolate Tart, Almond Twist, Blueberry Tart, Chocolate Eclair, Blackberry Tart, Truffle Cake, Raspberry Cookie, Marzipan Cookie, Tuile Cookie, Apricot Danish, Strawberry Cake, Gongolais Cookie, Hot Coffee, Berry Tart, Cherry Tart, Orange Juice, Coffee Eclair, Apple Tart, Green Tea, Opera Cake, Chocolate Cake, Single Espresso, Almond Croissant, Bottled Water, Ganache Cookie, Cheese Croissant, Apple Croissant, Lemon Cake, Lemon Cookie, Chocolate Coffee, Walnut Cookie, Vanilla Eclair, Casino Cake, Cherry Soda, Vanilla Frappuccino, Vanilla Meringue, Apple Pie, Pecan Tart, Napoleon Cake, Apple Danish, Blueberry Danish, Chocolate Croissant, Almond Tart, Apricot Tart, Chocolate Meringue, Lemon Lemonade]                    \n",
      "-RECORD 2------------------------------------------------------------------------------------------------------------------------------------------------------------------------------------------------------------------------------------------------------------------------------------------------------------------------------------------------------------------------------------------------------------------------------------------------------------------------------------------------------------------------------------------------------------------------------------------------------------------------------------------------------------------------------------------------------------------------------------------------------------------------------\n",
      " order_id   | 10000                                                                                                                                                                                                                                                                                                                                                                                                                                                                                                                                                                                                                                                                                                                                                                    \n",
      " items      | [Casino Cake, Chocolate Coffee, Chocolate Cake]                                                                                                                                                                                                                                                                                                                                                                                                                                                                                                                                                                                                                                                                                                                          \n",
      " prediction | [Raspberry Lemonade, Almond Bear Claw, Chocolate Tart, Blueberry Danish, Almond Twist, Blueberry Tart, Chocolate Eclair, Chocolate Croissant, Blackberry Tart, Truffle Cake, Raspberry Cookie, Apple Tart, Green Tea, Opera Cake, Almond Tart, Single Espresso, Bottled Water, Lemon Tart, Ganache Cookie, Cheese Croissant, Apple Croissant, Lemon Cookie, Apricot Tart, Chocolate Meringue, Marzipan Cookie, Lemon Cake, Tuile Cookie, Apricot Danish, Strawberry Cake, Gongolais Cookie, Apricot Croissant, Hot Coffee, Berry Tart, Cherry Tart, Orange Juice, Coffee Eclair, Walnut Cookie, Vanilla Frappuccino, Vanilla Meringue, Lemon Lemonade, Apple Pie, Pecan Tart, Napoleon Cake, Apple Danish, Almond Croissant, Vanilla Eclair, Cherry Soda]                \n",
      "only showing top 3 rows\n",
      "\n"
     ]
    }
   ],
   "source": [
    "DF_cast.show(3, truncate=False, vertical=True)"
   ]
  },
  {
   "cell_type": "code",
   "execution_count": null,
   "metadata": {
    "id": "-9zHZj6dQZo3"
   },
   "outputs": [],
   "source": []
  }
 ],
 "metadata": {
  "colab": {
   "provenance": []
  },
  "kernelspec": {
   "display_name": "Python 3 (ipykernel)",
   "language": "python",
   "name": "python3"
  },
  "language_info": {
   "codemirror_mode": {
    "name": "ipython",
    "version": 3
   },
   "file_extension": ".py",
   "mimetype": "text/x-python",
   "name": "python",
   "nbconvert_exporter": "python",
   "pygments_lexer": "ipython3",
   "version": "3.11.0"
  }
 },
 "nbformat": 4,
 "nbformat_minor": 1
}
